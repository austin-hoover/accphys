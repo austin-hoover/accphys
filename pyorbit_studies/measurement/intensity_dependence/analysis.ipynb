{
 "cells": [
  {
   "cell_type": "markdown",
   "metadata": {},
   "source": [
    "This notebook "
   ]
  },
  {
   "cell_type": "code",
   "execution_count": null,
   "metadata": {},
   "outputs": [],
   "source": [
    "import sys\n",
    "import numpy as np\n",
    "import pandas as pd\n",
    "from matplotlib import pyplot as plt, animation\n",
    "from matplotlib.lines import Line2D\n",
    "import proplot as plot\n",
    "import seaborn as sns\n",
    "\n",
    "sys.path.append('/Users/46h/Research/code/accphys/')\n",
    "from tools import envelope_analysis as ea\n",
    "from tools import plotting as myplt\n",
    "from tools import animation as myanim\n",
    "from tools.utils import list_files\n",
    "\n",
    "sys.path.append('/Users/46h/Research/code/accphys/pyorbit_studies/measurement/')\n",
    "from data_analysis import to_vec, to_mat, reconstruct_moments"
   ]
  },
  {
   "cell_type": "code",
   "execution_count": null,
   "metadata": {},
   "outputs": [],
   "source": [
    "plot.rc['figure.facecolor'] = 'white'\n",
    "plot.rc['cycle'] = 'default'\n",
    "plot.rc['savefig.dpi'] = 'figure'\n",
    "plot.rc['animation.html'] = 'jshtml'"
   ]
  },
  {
   "cell_type": "markdown",
   "metadata": {},
   "source": [
    "## Load data "
   ]
  },
  {
   "cell_type": "code",
   "execution_count": null,
   "metadata": {},
   "outputs": [],
   "source": [
    "phases = np.load('_output/data/phases.npy')\n",
    "intensities = np.load('_output/data/intensities.npy')\n",
    "ws_positions = np.loadtxt('_output/data/ws_positions.dat')"
   ]
  },
  {
   "cell_type": "code",
   "execution_count": null,
   "metadata": {},
   "outputs": [],
   "source": [
    "bunch_kinds = ['danilov', 'kv', 'gaussian']\n",
    "Sigma0, X0, I_scan_M, I_scan_moments = {}, {}, {}, {}\n",
    "for kind in bunch_kinds:\n",
    "    Sigma0[kind] = 1e6 * np.load('_output/data/{}/Sigma0.npy'.format(kind))\n",
    "    X0[kind] = 1e3 * np.load('_output/data/{}/X0.npy'.format(kind))\n",
    "    I_scan_M[kind] = np.load('_output/data/{}/I_scan_M.npy'.format(kind))\n",
    "    I_scan_moments[kind] = 1e6 * np.load('_output/data/{}/I_scan_moments.npy'.format(kind))"
   ]
  },
  {
   "cell_type": "markdown",
   "metadata": {},
   "source": [
    "## Reconstruction"
   ]
  },
  {
   "cell_type": "code",
   "execution_count": null,
   "metadata": {},
   "outputs": [],
   "source": [
    "def reconstruct(transfer_mats, moments):\n",
    "    A, b = [], []\n",
    "    for M, (x2, y2, xy) in zip(transfer_mats, moments):\n",
    "        A.append([M[0, 0]**2, M[0, 1]**2, 2*M[0, 0]*M[0, 1], 0, 0, 0, 0, 0, 0, 0])\n",
    "        A.append([0, 0, 0, M[2, 2]**2, M[2, 3]**2, 2*M[2, 2]*M[2, 3], 0, 0, 0, 0])\n",
    "        A.append([0, 0, 0, 0, 0, 0, M[0, 0]*M[2, 2],  M[0, 1]*M[2, 2],  M[0, 0]*M[2, 3],  M[0, 1]*M[2, 3]])\n",
    "        b.append(x2)\n",
    "        b.append(y2)\n",
    "        b.append(xy)\n",
    "    A, b = np.array(A), np.array(b)\n",
    "    Sigma = reconstruct_moments(A, b)\n",
    "    return Sigma"
   ]
  },
  {
   "cell_type": "code",
   "execution_count": null,
   "metadata": {},
   "outputs": [],
   "source": [
    "I_Sigma, I_intrinsic_emittances, I_apparent_emittances = {}, {}, {}\n",
    "for kind in bunch_kinds:\n",
    "    I_Sigma[kind] = []\n",
    "    for i in range(len(intensities)):\n",
    "        transfer_mats = I_scan_M[kind][i]\n",
    "        moments = I_scan_moments[kind][i]\n",
    "        Sigma = reconstruct(transfer_mats, moments)\n",
    "        I_Sigma[kind].append(Sigma)\n",
    "    I_Sigma[kind] = np.array(I_Sigma[kind])\n",
    "    I_intrinsic_emittances[kind] = [ea.intrinsic_emittances(Sigma) for Sigma in I_Sigma[kind]]\n",
    "    I_apparent_emittances[kind] = [ea.apparent_emittances(Sigma) for Sigma in I_Sigma[kind]]"
   ]
  },
  {
   "cell_type": "markdown",
   "metadata": {},
   "source": [
    "## Analysis "
   ]
  },
  {
   "cell_type": "code",
   "execution_count": null,
   "metadata": {},
   "outputs": [],
   "source": [
    "fig, axes = plot.subplots(ncols=3, figsize=(9, 2.5))\n",
    "for ax, kind in zip(axes, kinds):\n",
    "    ax.plot(intensities/(1e14), I_intrinsic_emittances[kind], marker='.', cycle=('red8', 'blue8'))\n",
    "    ax.format(xlabel=r'$10^{14}$ Intensity', ylabel='Intrinsic emittance [mm mrad]')\n",
    "axes[-1].legend(labels=[r'$\\varepsilon_1$', r'$\\varepsilon_2$']);"
   ]
  },
  {
   "cell_type": "code",
   "execution_count": null,
   "metadata": {},
   "outputs": [],
   "source": [
    "fig, axes = plot.subplots(ncols=3, figsize=(9, 2.5))\n",
    "for ax, kind in zip(axes, kinds):\n",
    "    ax.plot(intensities/(1e14), I_intrinsic_emittances[kind], marker='.')\n",
    "    ax.format(xlabel=r'$10^{14}$ Intensity', ylabel='Apparent emittance [mm mrad]')\n",
    "axes[-1].legend(labels=[r'$\\varepsilon_x$', r'$\\varepsilon_y$']);"
   ]
  },
  {
   "cell_type": "code",
   "execution_count": null,
   "metadata": {},
   "outputs": [],
   "source": [
    "for kind in bunch_kinds:\n",
    "    axes = myplt.rms_ellipses(Sigma0[kind], color='blue8', lw=2.5, zorder=0);\n",
    "    for Sigma in I_Sigma[kind]:\n",
    "        myplt.rms_ellipses(Sigma, axes=axes, color='red8', lw=1);\n",
    "    handles = [Line2D([0], [0], color='blue8'), Line2D([0], [0], color='red8')]\n",
    "    axes[1, 1].legend(handles, ['True', 'Reconstructed'], loc=(1.02, 1.02));\n",
    "    plt.suptitle(kind.upper());"
   ]
  }
 ],
 "metadata": {
  "kernelspec": {
   "display_name": "Python 3",
   "language": "python",
   "name": "python3"
  },
  "language_info": {
   "codemirror_mode": {
    "name": "ipython",
    "version": 3
   },
   "file_extension": ".py",
   "mimetype": "text/x-python",
   "name": "python",
   "nbconvert_exporter": "python",
   "pygments_lexer": "ipython3",
   "version": "3.7.6"
  },
  "toc-autonumbering": false
 },
 "nbformat": 4,
 "nbformat_minor": 4
}
