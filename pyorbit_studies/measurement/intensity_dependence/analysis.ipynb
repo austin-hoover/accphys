{
 "cells": [
  {
   "cell_type": "code",
   "execution_count": 22,
   "metadata": {},
   "outputs": [],
   "source": [
    "import sys\n",
    "import numpy as np\n",
    "import pandas as pd\n",
    "from matplotlib import pyplot as plt, animation\n",
    "import proplot as plot\n",
    "import seaborn as sns\n",
    "\n",
    "sys.path.append('/Users/46h/Research/code/accphys/')\n",
    "from tools import plotting as myplt\n",
    "from tools import animation as myanim\n",
    "from tools import utils\n",
    "\n",
    "sys.path.append('/Users/46h/Research/code/accphys/pyorbit_studies/measurement/')\n",
    "from data_analysis import to_vec, to_mat, reconstruct_moments"
   ]
  },
  {
   "cell_type": "code",
   "execution_count": 25,
   "metadata": {},
   "outputs": [],
   "source": [
    "plot.rc['figure.facecolor'] = 'white'\n",
    "plot.rc['cycle'] = 'default'\n",
    "plot.rc['savefig.dpi'] = 'figure'\n",
    "plot.rc['animation.html'] = 'jshtml'"
   ]
  },
  {
   "cell_type": "markdown",
   "metadata": {},
   "source": [
    "## Load data "
   ]
  },
  {
   "cell_type": "code",
   "execution_count": null,
   "metadata": {},
   "outputs": [],
   "source": [
    "Sigma0 = 1e6 * np.loadtxt('_output/data/Sigma0.dat')\n",
    "X0 = 1e3 * np.loadtxt('_output/data/X0.dat')"
   ]
  },
  {
   "cell_type": "code",
   "execution_count": 43,
   "metadata": {},
   "outputs": [],
   "source": [
    "def load(handle, ws_name):\n",
    "    path = '_output/data/{}_{}.npy'.format(handle, ws_name)\n",
    "    return np.load(path)\n",
    "\n",
    "phases_dict = {ws: load('phases', ws) for ws in ws_names}\n",
    "moments_dict = {ws: 1e6 * load('moments', ws) for ws in ws_names}\n",
    "transfer_mats_dict = {ws: load('transfer_mats', ws) for ws in ws_names}\n",
    "env_params_dict = {ws: 1e3 * load('env_params', ws) for ws in ws_names}\n",
    "coords_dict_dict = {ws: 1e3 * load('X', ws) for ws in ws_names}\n",
    "\n",
    "phases = np.vstack([phases_dict[ws] for ws in active_ws_names])\n",
    "moments = np.vstack([moments_dict[ws] for ws in active_ws_names]) # measured \n",
    "transfer_mats = np.vstack([transfer_mats_dict[ws] for ws in active_ws_names])\n",
    "env_params = np.vstack([env_params_dict[ws] for ws in active_ws_names])\n",
    "coords = np.vstack([coords_dict_dict[ws] for ws in active_ws_names])\n",
    "    \n",
    "Sigma0 = 1e6 * np.loadtxt('_output/data/Sigma0.dat')\n",
    "X0 = 1e3 * np.loadtxt('_output/data/X0.dat')"
   ]
  },
  {
   "cell_type": "markdown",
   "metadata": {},
   "source": [
    "## Reconstruction"
   ]
  },
  {
   "cell_type": "code",
   "execution_count": 11,
   "metadata": {},
   "outputs": [],
   "source": [
    "def reconstruct(transfer_mats, moments):\n",
    "    A, b = [], []\n",
    "    for M, (x2, y2, xy) in zip(transfer_mats, moments):\n",
    "        A.append([M[0, 0]**2, M[0, 1]**2, 2*M[0, 0]*M[0, 1], 0, 0, 0, 0, 0, 0, 0])\n",
    "        A.append([0, 0, 0, M[2, 2]**2, M[2, 3]**2, 2*M[2, 2]*M[2, 3], 0, 0, 0, 0])\n",
    "        A.append([0, 0, 0, 0, 0, 0, M[0, 0]*M[2, 2],  M[0, 1]*M[2, 2],  M[0, 0]*M[2, 3],  M[0, 1]*M[2, 3]])\n",
    "        b.append(x2)\n",
    "        b.append(y2)\n",
    "        b.append(xy)\n",
    "    A, b = np.array(A), np.array(b)\n",
    "    Sigma = reconstruct_moments(A, b)\n",
    "    return Sigma"
   ]
  }
 ],
 "metadata": {
  "kernelspec": {
   "display_name": "Python 3",
   "language": "python",
   "name": "python3"
  },
  "language_info": {
   "codemirror_mode": {
    "name": "ipython",
    "version": 3
   },
   "file_extension": ".py",
   "mimetype": "text/x-python",
   "name": "python",
   "nbconvert_exporter": "python",
   "pygments_lexer": "ipython3",
   "version": "3.7.6"
  },
  "toc-autonumbering": false
 },
 "nbformat": 4,
 "nbformat_minor": 4
}
