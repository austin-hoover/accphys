{
 "cells": [
  {
   "cell_type": "markdown",
   "metadata": {},
   "source": [
    "# Imports"
   ]
  },
  {
   "cell_type": "code",
   "execution_count": null,
   "metadata": {},
   "outputs": [],
   "source": [
    "import sys\n",
    "from cycler import cycler\n",
    "from pprint import pprint\n",
    "import numpy as np\n",
    "import matplotlib\n",
    "from matplotlib import pyplot as plt, animation\n",
    "import proplot as plot\n",
    "\n",
    "sys.path.append('/Users/46h/Research/code/accphys')\n",
    "from tools import plotting as myplt\n",
    "from tools import envelope_analysis as ea\n",
    "from tools.utils import list_files, show"
   ]
  },
  {
   "cell_type": "markdown",
   "metadata": {},
   "source": [
    "# Settings"
   ]
  },
  {
   "cell_type": "code",
   "execution_count": null,
   "metadata": {},
   "outputs": [],
   "source": [
    "plt_kws = dict(legend=False, xlabel='s / L')\n",
    "plot.rc['figure.facecolor'] = 'white'\n",
    "plot.rc['cycle'] = 'default'\n",
    "plot.rc['style'] = None \n",
    "cmap = plot.Colormap('viridis')\n",
    "dpi=500\n",
    "\n",
    "output_dir = '_output/data/'"
   ]
  },
  {
   "cell_type": "markdown",
   "metadata": {},
   "source": [
    "# Read Data"
   ]
  },
  {
   "cell_type": "code",
   "execution_count": null,
   "metadata": {},
   "outputs": [],
   "source": [
    "transfer_mats_master_list = [np.load('_output/data/transfer_mats{}.npy'.format(i)) for i in range(4)]\n",
    "tracked_params_master_list = [np.load('_output/data/tracked_params_list{}.npy'.format(i)) for i in range(4)]\n",
    "positions_master_list = [np.loadtxt('_output/data/positions{}.txt'.format(i)) for i in range(4)]\n",
    "perveances = np.loadtxt('_output/data/perveances.dat')\n",
    "mode = int(np.loadtxt('_output/data/mode.txt'))"
   ]
  },
  {
   "cell_type": "code",
   "execution_count": null,
   "metadata": {},
   "outputs": [],
   "source": [
    "lattice_names = [\n",
    "    'FODO',\n",
    "    'FODO\\n(split tunes)',\n",
    "    'FODO\\n(skew quads)',\n",
    "    'FODO\\n(solenoid insert)'\n",
    "]"
   ]
  },
  {
   "cell_type": "code",
   "execution_count": null,
   "metadata": {},
   "outputs": [],
   "source": [
    "_cycler = cycler('color', [cmap(i) for i in np.linspace(0, 1, len(perveances))])"
   ]
  },
  {
   "cell_type": "markdown",
   "metadata": {},
   "source": [
    "# Transfer matrix "
   ]
  },
  {
   "cell_type": "code",
   "execution_count": null,
   "metadata": {},
   "outputs": [],
   "source": [
    "# nrows, ncols = 4, len(perveances)\n",
    "# s = 20\n",
    "# fontsize=8\n",
    "\n",
    "# fig, axes = plot.subplots(nrows=nrows, ncols=ncols, figsize=(13, 6.5), hspace=0, wspace=0)\n",
    "# myplt.set_labels(axes[0, :], ['Q = {:.2e}'.format(Q) for Q in perveances], 'title')\n",
    "\n",
    "# # Plot unit circle in background\n",
    "# psi = np.linspace(0, 2*np.pi, 50)\n",
    "# x_circle, y_circle = np.cos(psi), np.sin(psi)\n",
    "# for ax in axes:\n",
    "#     ax.plot(x_circle, y_circle, 'k--', lw=1, zorder=0)\n",
    "    \n",
    "# # Plot eigenvalues\n",
    "# for i, transfer_mats in enumerate(transfer_mats_master_list):\n",
    "#     for ax, M in zip(axes[i, :], transfer_mats):\n",
    "#         eigvals, eigvecs = np.linalg.eig(M)\n",
    "#         ax.scatter(eigvals.real, eigvals.imag,  s=s, c=('r', 'r', 'b', 'b'), zorder=1)\n",
    "#         mu1, _, mu2, _ = np.degrees(np.arccos(eigvals.real))\n",
    "#         split, fontsize = 0.05, 8\n",
    "#         ax.annotate(r'$\\mu_1 = {:.2f}\\degree$'.format(mu1), xy=(0.5, 0.5+split), \n",
    "#                     xycoords='axes fraction', horizontalalignment='center', fontsize=fontsize)\n",
    "#         ax.annotate(r'$\\mu_1 = {:.2f}\\degree$'.format(mu2), xy=(0.5, 0.5-split), \n",
    "#                     xycoords='axes fraction', horizontalalignment='center', fontsize=fontsize)\n",
    "        \n",
    "# # Formatting\n",
    "# scale = 1.25\n",
    "# axes.format(\n",
    "#     suptitle='Perveance', grid=False,\n",
    "#     xlim=(-scale, scale), ylim=(-scale, scale), xlabel='Real', ylabel='Imag',\n",
    "#     xticks=[-1, 0, 1], yticks=[-1, 0, 1],\n",
    "#     rowlabels=lattice_names, \n",
    "#     xminorlocator='null', yminorlocator='null'\n",
    "# )\n",
    "        \n",
    "# plt.savefig('_output/figures/eigvals.png', dpi=dpi, facecolor='w')"
   ]
  },
  {
   "cell_type": "code",
   "execution_count": null,
   "metadata": {},
   "outputs": [],
   "source": [
    "# fig, axes = plot.subplots(nrows=nrows, ncols=ncols, figsize=(14, 7), hspace=0, wspace=0)\n",
    "# myplt.set_labels(axes[0, :], ['Q = {:.2e}'.format(Q) for Q in perveances], 'title')\n",
    "# scale = 1.25\n",
    "# axes.format(\n",
    "#     suptitle='Perveance',\n",
    "#     xlim=(-scale, scale), ylim=(-scale, scale), \n",
    "#     xlabel='x', ylabel='y',\n",
    "#     xticks=[-1, 0, 1], yticks=[-1, 0, 1],\n",
    "#     leftlabels=lattice_names, \n",
    "# )\n",
    "# for i in range(nrows):\n",
    "#     for ax, M in zip(axes[i, :], transfer_mats_master_list[i]):\n",
    "#         myplt.eigvec_trajectory(ax, M, 'x', 'y', s=7, lw=1)\n",
    "        \n",
    "# plt.savefig('_output/figures/eigvecs.png', dpi=dpi, facecolor='w')"
   ]
  },
  {
   "cell_type": "code",
   "execution_count": null,
   "metadata": {},
   "outputs": [],
   "source": [
    "transfer_mats = np.array(transfer_mats_master_list)[[1, 2, 3], 0] # fodo_split, fodo_skew, fodo_sol at zero space charge\n",
    "\n",
    "fig, axes = plt.subplots(2, 3, figsize=(4.75, 3.75), sharex='row', sharey='row', tight_layout=True)\n",
    "\n",
    "for (ax1, ax2), M in zip(axes.T, transfer_mats):\n",
    "    eigvals, eigvecs = np.linalg.eig(M)\n",
    "    ax1.plot(x_circle, y_circle, 'k--', lw=1, zorder=0)\n",
    "    ax1.scatter(eigvals.real, eigvals.imag,  s=15, c=('r', 'r', 'b', 'b'), zorder=1)\n",
    "    myplt.eigvec_trajectory(ax2, M, 'x', 'y', s=7, lw=1)\n",
    "    mu1, _, mu2, _ = np.degrees(np.arccos(eigvals.real))\n",
    "    split, fontsize = 0.06, 7\n",
    "    ax1.annotate(r'$\\mu_1 = {:.2f}\\degree$'.format(mu1), xy=(0.5, 0.5+split), xycoords='axes fraction', horizontalalignment='center', fontsize=fontsize)\n",
    "    ax1.annotate(r'$\\mu_2 = {:.2f}\\degree$'.format(mu2), xy=(0.5, 0.5-split), xycoords='axes fraction', horizontalalignment='center', fontsize=fontsize)\n",
    "\n",
    "myplt.set_labels(axes[0, :], ['a) split tunes','b) skew quads','c) solenoid insert'], 'title')\n",
    "myplt.set_limits(axes.flat, 6*[(-scale, scale)], 'xy')\n",
    "myplt.toggle_grid(axes[0, :], 'off')\n",
    "myplt.despine(axes[1, :], ('top', 'right'))\n",
    "axes[0, 1].set_xlabel('Real')\n",
    "axes[0, 0].set_ylabel('Imag')\n",
    "axes[1, 1].set_xlabel(r'$x$', fontsize='large')\n",
    "axes[1, 0].set_ylabel(r'$y$', fontsize='large')\n",
    "    \n",
    "plt.savefig('_output/figures/subplots.png', dpi=dpi, facecolor='w')"
   ]
  },
  {
   "cell_type": "markdown",
   "metadata": {},
   "source": [
    "# Beam statistics"
   ]
  },
  {
   "cell_type": "code",
   "execution_count": null,
   "metadata": {},
   "outputs": [],
   "source": [
    "stats_master_list = []\n",
    "\n",
    "for tracked_params_list, positions in zip(tracked_params_master_list, positions_master_list):\n",
    "    stats_list = []\n",
    "    for tracked_params in tracked_params_list:\n",
    "        stats = ea.Stats(mode)\n",
    "        stats.read_env(tracked_params)\n",
    "        for df in stats.dfs():\n",
    "            df['s'] = positions\n",
    "            df['s/L'] = positions / positions[-1]\n",
    "        stats_list.append(stats)\n",
    "    stats_master_list.append(stats_list)"
   ]
  },
  {
   "cell_type": "code",
   "execution_count": null,
   "metadata": {},
   "outputs": [],
   "source": [
    "fig, axes = plot.subplots(ncols=len(stats_master_list), nrows=4, figsize=(11, 7), spany=False, aligny=True, sharey=False)\n",
    "axes.set_prop_cycle(_cycler)\n",
    "\n",
    "for i, stats_list in enumerate(stats_master_list):\n",
    "    for stats in stats_list:\n",
    "        stats.twiss4D['xrms'] = np.sqrt(eps * stats.twiss4D['bx'])\n",
    "        stats.twiss4D['yrms'] = np.sqrt(eps * stats.twiss4D['by'])\n",
    "        for ax, col in zip(axes[:, i], ['xrms', 'yrms', 'u', 'nu']):\n",
    "            stats.twiss4D[['s/L', col]].plot('s/L', ax=ax, **plt_kws)\n",
    "\n",
    "myplt.set_labels(axes[:, 0], ylabels, 'ylabel')\n",
    "axes[3, :].format(yformatter='deg', toplabels=lattice_names)\n",
    "\n",
    "plt.savefig('_output/figures/twissparams.png', dpi=500, facecolor='w')"
   ]
  },
  {
   "cell_type": "code",
   "execution_count": null,
   "metadata": {},
   "outputs": [],
   "source": [
    "def solstrength(s):\n",
    "    B = 0.\n",
    "    L = 0.625\n",
    "    if (1.25 - L/2 <= s < 1.25 + L/2) or (3.75 - L/2 <= s < 3.75 + L/2):\n",
    "        return B\n",
    "    else:\n",
    "        return 0"
   ]
  },
  {
   "cell_type": "code",
   "execution_count": null,
   "metadata": {},
   "outputs": [],
   "source": [
    "positions = positions_master_list[0]\n",
    "R = np.array([solstrength(s) for s in positions])\n",
    "\n",
    "stats = stats_master_list[0][0]\n",
    "u = stats.twiss4D['u'].values\n",
    "nu1 = stats.twiss4D['nu'].values\n",
    "b1x = stats.twiss4D['bx'].values\n",
    "b1y = stats.twiss4D['by'].values"
   ]
  },
  {
   "cell_type": "code",
   "execution_count": null,
   "metadata": {},
   "outputs": [],
   "source": [
    "from scipy.integrate import trapz\n",
    "\n",
    "npts = len(positions)\n",
    "phases = np.zeros(npts)\n",
    "\n",
    "f = (1 - u)/b1x - 0.5*R*np.sqrt(b1y/b1x)*np.sin(nu1)\n",
    "\n",
    "for i in range(npts):\n",
    "    phases[i] = trapz(f[:i], positions[:i]) # radians"
   ]
  },
  {
   "cell_type": "code",
   "execution_count": null,
   "metadata": {},
   "outputs": [],
   "source": [
    "fig, ax = plot.subplots()\n",
    "ax.plot(positions, np.degrees(phases))"
   ]
  },
  {
   "cell_type": "code",
   "execution_count": null,
   "metadata": {},
   "outputs": [],
   "source": []
  }
 ],
 "metadata": {
  "kernelspec": {
   "display_name": "Python 3",
   "language": "python",
   "name": "python3"
  },
  "language_info": {
   "codemirror_mode": {
    "name": "ipython",
    "version": 3
   },
   "file_extension": ".py",
   "mimetype": "text/x-python",
   "name": "python",
   "nbconvert_exporter": "python",
   "pygments_lexer": "ipython3",
   "version": "3.7.6"
  },
  "toc": {
   "base_numbering": 1,
   "nav_menu": {},
   "number_sections": true,
   "sideBar": true,
   "skip_h1_title": true,
   "title_cell": "Table of Contents",
   "title_sidebar": "Contents",
   "toc_cell": false,
   "toc_position": {
    "height": "calc(100% - 180px)",
    "left": "10px",
    "top": "150px",
    "width": "273.3823547363281px"
   },
   "toc_section_display": true,
   "toc_window_display": true
  },
  "toc-autonumbering": true,
  "toc-showcode": false,
  "toc-showmarkdowntxt": false
 },
 "nbformat": 4,
 "nbformat_minor": 4
}
