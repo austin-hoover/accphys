{
 "cells": [
  {
   "cell_type": "markdown",
   "metadata": {},
   "source": [
    "This notebook quickly generates the plots for our current paper. "
   ]
  },
  {
   "cell_type": "markdown",
   "metadata": {},
   "source": [
    "# Setup"
   ]
  },
  {
   "cell_type": "markdown",
   "metadata": {},
   "source": [
    "## Imports "
   ]
  },
  {
   "cell_type": "code",
   "execution_count": 77,
   "metadata": {},
   "outputs": [],
   "source": [
    "# Standard\n",
    "import sys\n",
    "from cycler import cycler\n",
    "# Third party\n",
    "import numpy as np\n",
    "import pandas as pd\n",
    "from matplotlib import pyplot as plt\n",
    "import proplot as plot\n",
    "# Local                                                                        \n",
    "sys.path.append('/Users/46h/Research/code/accphys') \n",
    "from tools import (\n",
    "    envelope_analysis as ea,\n",
    "    plotting as myplt,\n",
    "    animation as myanim,\n",
    "    utils)\n",
    "from tools.plotting import set_labels"
   ]
  },
  {
   "cell_type": "markdown",
   "metadata": {},
   "source": [
    "## Settings"
   ]
  },
  {
   "cell_type": "code",
   "execution_count": 78,
   "metadata": {},
   "outputs": [],
   "source": [
    "plt_kws = dict(legend=False, xlabel='s / L')\n",
    "plot.rc['figure.facecolor'] = 'white'\n",
    "plot.rc['cycle'] = 'default'\n",
    "plot.rc['style'] = None # `None` for default proplot style\n",
    "\n",
    "cmap = plot.Colormap('dusk')\n",
    "cmap_range = (0, 0.9)\n",
    "dpi = 500"
   ]
  },
  {
   "cell_type": "markdown",
   "metadata": {},
   "source": [
    "## Read Data"
   ]
  },
  {
   "cell_type": "code",
   "execution_count": 79,
   "metadata": {},
   "outputs": [],
   "source": [
    "# latnames = [f.rstrip() for f in open('_output/data/latnames.txt', 'r')]\n",
    "# perveances = np.load('_output/data/perveances.npy')\n",
    "\n",
    "# tracked_env_params_dict = {} \n",
    "# transfer_mats_dict = {}\n",
    "# stats_dict = {}\n",
    "# positions_dict = {}\n",
    "\n",
    "# for latname in latnames:\n",
    "#     for mode in (1, 2):\n",
    "#         key = latname + '_mode{}'.format(mode)\n",
    "#         print('Loading', key, '...')\n",
    "\n",
    "#         # Load the list of tracked envelope parameters and transfer matrices        \n",
    "#         tracked_env_params_list = np.load('_output/data/tracked_env_params_list_{}_{}.npy'.format(latname, mode))\n",
    "#         tranfer_mat_list = np.load('_output/data/transfer_mats_{}_{}.npy'.format(latname, mode))\n",
    "#         positions = np.load('_output/data/positions_{}.npy'.format(latname))\n",
    "        \n",
    "#         # Compute the beam statistics for each set of envelope parameters in the list\n",
    "#         stats_list = []\n",
    "#         for i, tracked_env_params in enumerate(tracked_env_params_list):\n",
    "#             stats = ea.Stats(mode)\n",
    "#             stats.read_env(tracked_env_params)\n",
    "#             beta_x = stats.twiss2D.loc[:, 'bx'].values\n",
    "#             beta_y = stats.twiss2D.loc[:, 'by'].values\n",
    "#             stats.twiss2D['mux'] = utils.get_phase_adv(beta_x, positions, units='deg')\n",
    "#             stats.twiss2D['muy'] = utils.get_phase_adv(beta_y, positions, units='deg')\n",
    "            \n",
    "#             if latname.startswith('fodo_split') and perveances[i] == 0:\n",
    "#                 stats.twiss4D['nu'] = 90.0\n",
    "                \n",
    "#             for df in stats.dfs():\n",
    "#                 df['s'] = positions\n",
    "#                 df['s/L'] = positions / positions[-1]\n",
    "#             stats_list.append(stats)\n",
    "            \n",
    "#         stats_dict[key] = stats_list\n",
    "#         tracked_env_params_dict[key] = tracked_env_params_list\n",
    "#         transfer_mats_dict[key] = tranfer_mat_list\n",
    "#         positions_dict[key] = positions\n",
    "        \n",
    "# print('Done.')"
   ]
  },
  {
   "cell_type": "code",
   "execution_count": 80,
   "metadata": {},
   "outputs": [],
   "source": [
    "colors = [cmap(i) for i in np.linspace(cmap_range[0], cmap_range[1], len(perveances))]\n",
    "_cycler = cycler('color', colors)"
   ]
  },
  {
   "cell_type": "markdown",
   "metadata": {},
   "source": [
    "# Plot"
   ]
  },
  {
   "cell_type": "markdown",
   "metadata": {},
   "source": [
    "## Phase space projections at lattice entrance"
   ]
  },
  {
   "cell_type": "code",
   "execution_count": 81,
   "metadata": {},
   "outputs": [],
   "source": [
    "# for key, tracked_env_params_list in tracked_env_params_dict.items():\n",
    "#     print('Plotting', key, '...')\n",
    "#     axes = myplt.corner_env(tracked_env_params_list[:, 0, :], figsize=5, pad=0.25, lw=1, \n",
    "#                             cmap=cmap, cmap_range=cmap_range)\n",
    "#     plt.savefig('_output/figures/corner_vs_sc_{}.png'.format(key), dpi=500, facecolor='white')\n",
    "#     plt.close()\n",
    "# # print('Done.')"
   ]
  },
  {
   "cell_type": "markdown",
   "metadata": {},
   "source": [
    "## Twiss parameters within lattice"
   ]
  },
  {
   "cell_type": "code",
   "execution_count": 82,
   "metadata": {},
   "outputs": [],
   "source": [
    "# for i, (key, stats_list) in enumerate(stats_dict.items()):\n",
    "#     print('Plotting', key, '...')\n",
    "    \n",
    "#     fig, axes = plot.subplots(ncols=1, nrows=3, sharey=False, figsize=(2.5, 5), aligny=True)\n",
    "#     axes.set_prop_cycle(_cycler)\n",
    "#     for stats in stats_list:\n",
    "#         stats.moments[['s/L','x_rms']].plot('s/L', ax=axes[0], **plt_kws)\n",
    "#         stats.twiss2D['ex/ey'] = stats.twiss2D['ex'] / stats.twiss2D['ey']\n",
    "#         stats.twiss4D[['s/L','u']].plot('s/L', ax=axes[1], **plt_kws)\n",
    "#         stats.twiss4D[['s/L','nu']].plot('s/L', ax=axes[2], **plt_kws)\n",
    "#     axes.set_prop_cycle(_cycler)\n",
    "#     for stats in stats_list:\n",
    "#         stats.moments[['s/L','y_rms']].plot('s/L', ax=axes[0], ls='--', zorder=0, lw=1, **plt_kws)\n",
    "\n",
    "#     axes[2].format(yformatter='deg')\n",
    "#     axes.format(grid=False)\n",
    "#     set_labels(axes, ['Beam size [mm]', 'u', r'$\\nu$'], 'ylabel')\n",
    "\n",
    "#     plt.savefig('_output/figures/param_vs_sc{}.png'.format(key), dpi=dpi, facecolor='w')\n",
    "#     plt.close()\n",
    "# print('Done.')"
   ]
  },
  {
   "cell_type": "markdown",
   "metadata": {},
   "source": [
    "## Combined plot "
   ]
  },
  {
   "cell_type": "markdown",
   "metadata": {},
   "source": [
    "Build specialized plot for the paper."
   ]
  },
  {
   "cell_type": "code",
   "execution_count": 83,
   "metadata": {},
   "outputs": [],
   "source": [
    "def plot_combined(key, text=r'$s \\,/\\, L = 0$'):\n",
    "    \"\"\"Plot 3 beam parameters as a function of s next to the transverse phase\n",
    "    space projections.\"\"\"\n",
    "\n",
    "    # Create figure (constrained_layout > tight_layout)\n",
    "    fig, axes = plt.subplots(3, 4, figsize=(7, 4.5), constrained_layout=True,\n",
    "                             gridspec_kw=dict(width_ratios=[1, 1, 1, 1.5]))\n",
    "    left, right = axes[:, :-1], axes[:, -1] \n",
    "    myplt.despine(left.flat)\n",
    "    myplt.make_lower_triangular(left)\n",
    "\n",
    "    # Share axes\n",
    "    for col in axes.T:\n",
    "        myplt.set_share_axes(col, sharex=True)\n",
    "    for row in left:\n",
    "        myplt.set_share_axes(row, sharey=True)\n",
    "\n",
    "    # Set color cycle\n",
    "    for ax in left.flat:\n",
    "        ax.set_prop_cycle(_cycler)\n",
    "\n",
    "    # Get ellipse boundary data\n",
    "    params = tracked_env_params_dict[key][:, 0, :]\n",
    "    if type(params) is not np.ndarray:\n",
    "        params = np.array(params)\n",
    "    if params.ndim == 1:\n",
    "        params = params[np.newaxis, :]\n",
    "    coords = ea.get_ellipse_coords(params)\n",
    "\n",
    "    # Set up figure\n",
    "    umax, upmax = 1.25 * myplt.get_u_up_max_global(coords)\n",
    "    limits = 2 * [(-umax, umax), (-upmax, upmax)]\n",
    "    labels = myplt.get_labels(units='mm-mrad')\n",
    "    myplt.set_labels(left[-1, :], labels[:-1], 'xlabel')\n",
    "    myplt.set_labels(left[:, 0], labels[1:], 'ylabel')\n",
    "    myplt.set_labels(right, ['Beam size [mm]', 'u', r'$\\nu$ [deg]'], 'ylabel')\n",
    "    myplt.set_limits(left[:, 0], limits[1:], 'y')\n",
    "    myplt.set_limits(left[-1, :], limits[:-1], 'x')\n",
    "\n",
    "    # Plot envelope data\n",
    "    for X in coords:\n",
    "        X_horiz, X_vert = X[:, :-1], X[:, 1:]\n",
    "        for i in range(3):\n",
    "            for j in range(i + 1):\n",
    "                left[i, j].plot(X_horiz[:, j], X_vert[:, i], lw=1, zorder=10)\n",
    "\n",
    "    # Plot parameters as a function of s\n",
    "    plt_kws.setdefault('lw', 1)\n",
    "    stats_list = stats_dict[key]\n",
    "    for ax in right:\n",
    "        ax.set_prop_cycle(_cycler)\n",
    "    for stats in stats_list:\n",
    "        stats.moments[['s/L','x_rms']].plot('s/L', ax=right[0], **plt_kws)\n",
    "        stats.twiss4D[['s/L','u']].plot('s/L', ax=right[1], **plt_kws)\n",
    "        stats.twiss4D[['s/L','nu']].plot('s/L', ax=right[2], yunits='degrees', **plt_kws)\n",
    "    right[0].set_prop_cycle(_cycler)\n",
    "    for stats in stats_list:\n",
    "        stats.moments[['s/L','y_rms']].plot('s/L', ax=right[0], ls='--', zorder=0, legend=False, lw=0.8)\n",
    "\n",
    "    # Turn off grid for line plots\n",
    "    for ax in right:\n",
    "        ax.grid(False)\n",
    "        \n",
    "    axes[0, 1].annotate(text, xy=(0.5, 0.5), xycoords='axes fraction', horizontalalignment='center')\n",
    "        \n",
    "    return axes"
   ]
  },
  {
   "cell_type": "code",
   "execution_count": 84,
   "metadata": {},
   "outputs": [
    {
     "name": "stdout",
     "output_type": "stream",
     "text": [
      "Plotting fodo_mode1 ...\n",
      "Plotting fodo_mode2 ...\n",
      "Plotting fodo_split_mode1 ...\n",
      "Plotting fodo_split_mode2 ...\n",
      "Plotting fodo_skew_mode1 ...\n",
      "Plotting fodo_skew_mode2 ...\n",
      "Plotting fodo_sol_mode1 ...\n",
      "Plotting fodo_sol_mode2 ...\n",
      "Done.\n"
     ]
    }
   ],
   "source": [
    "for key in stats_dict.keys():\n",
    "    print('Plotting', key, '...')\n",
    "    axes = plot_combined(key)\n",
    "    plt.savefig('_output/figures/matched_vs_sc_{}.png'.format(key), dpi=500, facecolor='white')\n",
    "    plt.close()\n",
    "print('Done.')"
   ]
  },
  {
   "cell_type": "markdown",
   "metadata": {},
   "source": [
    "## Effective transfer matrix "
   ]
  },
  {
   "cell_type": "markdown",
   "metadata": {},
   "source": [
    "### Eigenvalues"
   ]
  },
  {
   "cell_type": "code",
   "execution_count": 85,
   "metadata": {},
   "outputs": [],
   "source": [
    "# nrows, ncols = 4, len(perveances)\n",
    "# s = 20\n",
    "# fontsize=8\n",
    "\n",
    "# fig, axes = plot.subplots(nrows=nrows, ncols=ncols, figsize=(13, 6.5), hspace=0, wspace=0)\n",
    "# myplt.set_labels(axes[0, :], ['Q = {:.2e}'.format(Q) for Q in perveances], 'title')\n",
    "\n",
    "# # Plot unit circle in background\n",
    "# psi = np.linspace(0, 2*np.pi, 50)\n",
    "# x_circle, y_circle = np.cos(psi), np.sin(psi)\n",
    "# for ax in axes:\n",
    "#     ax.plot(x_circle, y_circle, 'k--', lw=1, zorder=0)\n",
    "    \n",
    "# # Plot eigenvalues\n",
    "# keys = transfer_mats_dict.keys()\n",
    "# keys_solution1 = [key for key in keys if key.endswith('1')]\n",
    "# keys_solution2 = [key for key in keys if key.endswith('2')]\n",
    "\n",
    "\n",
    "# for i, key in enumerate(keys_solution1):\n",
    "#     transfer_mat_list = transfer_mats_dict[key]\n",
    "#     for ax, M in zip(axes[i, :], transfer_mat_list):\n",
    "#         eigvals, eigvecs = np.linalg.eig(M)\n",
    "#         ax.scatter(eigvals.real, eigvals.imag,  s=s, c=('r', 'r', 'b', 'b'), zorder=1)\n",
    "#         mu1, _, mu2, _ = np.degrees(np.arccos(eigvals.real))\n",
    "#         split, fontsize = 0.05, 8\n",
    "#         ax.annotate(r'$\\mu_1 = {:.2f}\\degree$'.format(mu1), xy=(0.5, 0.5+split), \n",
    "#                     xycoords='axes fraction', horizontalalignment='center', fontsize=fontsize)\n",
    "#         ax.annotate(r'$\\mu_2 = {:.2f}\\degree$'.format(mu2), xy=(0.5, 0.5-split), \n",
    "#                     xycoords='axes fraction', horizontalalignment='center', fontsize=fontsize)\n",
    "        \n",
    "# # Formatting\n",
    "# scale = 1.25\n",
    "# axes.format(\n",
    "#     suptitle='Perveance', grid=False,\n",
    "#     xlim=(-scale, scale), ylim=(-scale, scale), xlabel='Real', ylabel='Imag',\n",
    "#     xticks=[-1, 0, 1], yticks=[-1, 0, 1],\n",
    "#     leftlabels=['FODO', 'FODO\\n(split tunes)', 'FODO\\n(skew quads)', 'FODO\\n(solenoid insert)'], \n",
    "#     xminorlocator='null', yminorlocator='null'\n",
    "# )\n",
    "        \n",
    "# plt.savefig('_output/figures/eigvals.png', dpi=dpi, facecolor='w')"
   ]
  },
  {
   "cell_type": "markdown",
   "metadata": {},
   "source": [
    "### Eigenvectors "
   ]
  },
  {
   "cell_type": "code",
   "execution_count": 86,
   "metadata": {},
   "outputs": [],
   "source": [
    "# nrows, ncols = 4, 3\n",
    "# s = 20\n",
    "# fontsize = 7\n",
    "\n",
    "# fig, axes = plot.subplots(nrows=4, ncols=3, figsize=(5.75, 6), hspace=0, wspace=0)\n",
    "# myplt.set_labels(axes[0, :], ['Q = {:.2e}'.format(Q) for Q in perveances[:3]], 'title')\n",
    "\n",
    "# # Plot unit circle in background\n",
    "# psi = np.linspace(0, 2*np.pi, 50)\n",
    "# x_circle, y_circle = np.cos(psi), np.sin(psi)\n",
    "# for ax in axes:\n",
    "#     ax.plot(x_circle, y_circle, 'k--', lw=1, zorder=0)\n",
    "    \n",
    "# # Plot eigenvalues\n",
    "# keys = transfer_mats_dict.keys()\n",
    "# keys_solution1 = [key for key in keys if key.endswith('1')]\n",
    "# keys_solution2 = [key for key in keys if key.endswith('2')]\n",
    "\n",
    "# for i, key in enumerate(keys_solution1):\n",
    "#     transfer_mat_list = transfer_mats_dict[key]\n",
    "#     for ax, M in zip(axes[i, :], transfer_mat_list[:3]):\n",
    "#         eigvals, eigvecs = np.linalg.eig(M)\n",
    "#         ax.scatter(eigvals.real, eigvals.imag,  s=s, c=('r', 'r', 'b', 'b'), zorder=1)\n",
    "#         mu1, _, mu2, _ = np.degrees(np.arccos(eigvals.real))\n",
    "#         split = 0.05\n",
    "#         ax.annotate(r'$\\mu_1 = {:.2f}\\degree$'.format(mu1), xy=(0.5, 0.5+split), \n",
    "#                     xycoords='axes fraction', horizontalalignment='center', fontsize=fontsize)\n",
    "#         ax.annotate(r'$\\mu_2 = {:.2f}\\degree$'.format(mu2), xy=(0.5, 0.5-split), \n",
    "#                     xycoords='axes fraction', horizontalalignment='center', fontsize=fontsize)\n",
    "        \n",
    "# # Formatting\n",
    "# scale = 1.5\n",
    "# axes.format(\n",
    "#     grid=False,\n",
    "#     xlim=(-scale, scale), ylim=(-scale, scale), xlabel='Real', ylabel='Imag',\n",
    "#     xticks=[-1, 0, 1], yticks=[-1, 0, 1],\n",
    "#     leftlabels=['FODO', 'FODO\\n(split tunes)', 'FODO\\n(skew quads)', 'FODO\\n(solenoid insert)'], \n",
    "#     xminorlocator='null', yminorlocator='null'\n",
    "# )\n",
    "        \n",
    "# plt.savefig('_output/figures/eigvals2.png', dpi=dpi, facecolor='w')"
   ]
  },
  {
   "cell_type": "code",
   "execution_count": null,
   "metadata": {},
   "outputs": [],
   "source": []
  }
 ],
 "metadata": {
  "kernelspec": {
   "display_name": "Python 3",
   "language": "python",
   "name": "python3"
  },
  "language_info": {
   "codemirror_mode": {
    "name": "ipython",
    "version": 3
   },
   "file_extension": ".py",
   "mimetype": "text/x-python",
   "name": "python",
   "nbconvert_exporter": "python",
   "pygments_lexer": "ipython3",
   "version": "3.7.6"
  },
  "toc": {
   "base_numbering": 1,
   "nav_menu": {},
   "number_sections": true,
   "sideBar": true,
   "skip_h1_title": true,
   "title_cell": "Table of Contents",
   "title_sidebar": "Contents",
   "toc_cell": false,
   "toc_position": {
    "height": "calc(100% - 180px)",
    "left": "10px",
    "top": "150px",
    "width": "273.3823547363281px"
   },
   "toc_section_display": true,
   "toc_window_display": true
  },
  "toc-autonumbering": true,
  "toc-showcode": false,
  "toc-showmarkdowntxt": false,
  "toc-showtags": false
 },
 "nbformat": 4,
 "nbformat_minor": 4
}
